{
 "cells": [
  {
   "cell_type": "markdown",
   "metadata": {},
   "source": [
    "# Step 0 - import relation module"
   ]
  },
  {
   "cell_type": "code",
   "execution_count": 1,
   "metadata": {},
   "outputs": [],
   "source": [
    "%matplotlib inline\n",
    "import os,sys\n",
    "import datacube\n",
    "from datacube.config import LocalConfig\n",
    "import datetime\n",
    "import xarray as xr\n",
    "import matplotlib.pyplot as plt\n",
    "import pandas as pd\n",
    "import numpy as np\n",
    "import seaborn as sns\n",
    "sys.path.append(os.environ['odc_config'])\n",
    "dc = datacube.Datacube(app = 'my_app', config = '/home/localuser/.datacube.conf')\n",
    "#import 會用到的模組"
   ]
  },
  {
   "cell_type": "markdown",
   "metadata": {},
   "source": [
    "# Step 1 - loading image\n"
   ]
  },
  {
   "cell_type": "code",
   "execution_count": null,
   "metadata": {},
   "outputs": [],
   "source": [
    "platform = \"LANDSAT_8\"\n",
    "product = \"ls8_C1_sr_taiwan\"\n",
    "\n",
    "base_lat = 22.98322\n",
    "base_lon = 120.22082\n",
    "\n",
    "#base_lat、base_lon代表要取的那點的座標\n",
    "\n",
    "lon = (base_lon + 0.001, base_lon - 0.001)\n",
    "lat = (base_lat + 0.001, base_lat - 0.001)\n",
    "\n",
    "#將經緯度範圍設定為+-0.001的範圍\n",
    "\n",
    "date_range =(datetime.datetime(2010,1,1), datetime.datetime(2019,12,31))\n",
    "\n",
    "platform = 'LANDSAT_8'\n",
    "product = 'ls8_C1_sr_taiwan'  \n",
    "\n",
    "desired_bands = ['red','green','blue','nir','swir1','swir2','pixel_qa']  \n",
    "\n",
    "#取出資料\n",
    "landsat = dc.load(product = product,platform = platform,lat = lat,lon = lon, time = date_range,measurements = desired_bands,group_by = 'solar_day')"
   ]
  },
  {
   "cell_type": "markdown",
   "metadata": {},
   "source": [
    "# Step 2 - extract data according to coordinates and filter by pixel quality"
   ]
  },
  {
   "cell_type": "code",
   "execution_count": null,
   "metadata": {},
   "outputs": [],
   "source": [
    "pixel_coordinates = {\"latitude\":base_lat,\"longitude\": base_lon}\n",
    "pixel = landsat.sel(**pixel_coordinates, method = 'nearest')\n",
    "#根據坐標取出資料"
   ]
  },
  {
   "cell_type": "code",
   "execution_count": null,
   "metadata": {},
   "outputs": [],
   "source": [
    "point = pixel.where(pixel.pixel_qa == 322)\n",
    "#篩選pixel_qa為322的資料出來"
   ]
  },
  {
   "cell_type": "markdown",
   "metadata": {},
   "source": [
    "# Step 3 - get ndvi values"
   ]
  },
  {
   "cell_type": "code",
   "execution_count": null,
   "metadata": {},
   "outputs": [],
   "source": [
    "ndvi = (point.nir - point.red)/(point.nir + point.red)\n",
    "#計算ndvi"
   ]
  },
  {
   "cell_type": "markdown",
   "metadata": {},
   "source": [
    "# Step 4 - output to pandas dataframe"
   ]
  },
  {
   "cell_type": "code",
   "execution_count": null,
   "metadata": {},
   "outputs": [],
   "source": [
    "result = pd.DataFrame({'time':ndvi.time.values})\n",
    "result['ndvi'] = ndvi.values\n",
    "#做成表格"
   ]
  },
  {
   "cell_type": "code",
   "execution_count": null,
   "metadata": {},
   "outputs": [],
   "source": [
    "result = result[~result['ndvi'].isin(['NaN'])]"
   ]
  },
  {
   "cell_type": "markdown",
   "metadata": {},
   "source": [
    "# Step 5 - plot ndvi values by time"
   ]
  },
  {
   "cell_type": "code",
   "execution_count": null,
   "metadata": {},
   "outputs": [],
   "source": [
    "#計算繪圖用資料\n",
    "result2 = pd.DataFrame({'time':ndvi.time.values})\n",
    "result2['ndvi'] = ndvi.values\n",
    "result2 = result2[~result2['ndvi'].isin(['NaN'])]"
   ]
  },
  {
   "cell_type": "code",
   "execution_count": null,
   "metadata": {},
   "outputs": [],
   "source": [
    "#用seaborn繪製散布圖\n",
    "sns.set()\n",
    "\n",
    "plt.subplots(figsize=(17,5))\n",
    "result.set_index(\"time\")['ndvi'].plot(style='k--')\n",
    "sns.scatterplot(x=\"time\", y=\"ndvi\", data=result2)\n",
    "#根據時間繪圖"
   ]
  },
  {
   "cell_type": "code",
   "execution_count": null,
   "metadata": {},
   "outputs": [],
   "source": [
    "#指數加權函數分析\n",
    "import time\n",
    "sns.set()\n",
    "plt.subplots(figsize=(17,5))\n",
    "plt.xlim(pd._libs.tslib.Timestamp('2013-01-01 00:00:00'), pd._libs.tslib.Timestamp('2020-01-01 00:00:00')) \n",
    "\n",
    "test = result2.set_index(\"time\")['ndvi'].rolling(window=60,min_periods=50).mean()\n",
    "#套用指數分析\n",
    "ewma60 = result2.set_index(\"time\")['ndvi'].ewm(span=3).mean()\n",
    "ewma60.plot(style='k--')\n",
    "\n",
    "sns.scatterplot(x=\"time\", y=\"ndvi\", data=result2)\n"
   ]
  },
  {
   "cell_type": "markdown",
   "metadata": {},
   "source": [
    "# Step 6 - output to csv"
   ]
  },
  {
   "cell_type": "code",
   "execution_count": null,
   "metadata": {},
   "outputs": [],
   "source": [
    "result.to_csv('ndvi_value.csv',index=True,sep=',')\n",
    "#輸出成csv檔"
   ]
  }
 ],
 "metadata": {
  "kernelspec": {
   "display_name": "Python [root] *",
   "language": "python",
   "name": "conda-root-py"
  },
  "language_info": {
   "codemirror_mode": {
    "name": "ipython",
    "version": 3
   },
   "file_extension": ".py",
   "mimetype": "text/x-python",
   "name": "python",
   "nbconvert_exporter": "python",
   "pygments_lexer": "ipython3",
   "version": "3.6.7"
  }
 },
 "nbformat": 4,
 "nbformat_minor": 2
}
